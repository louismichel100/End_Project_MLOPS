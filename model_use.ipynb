{
 "cells": [
  {
   "cell_type": "code",
   "execution_count": 1,
   "metadata": {},
   "outputs": [
    {
     "name": "stderr",
     "output_type": "stream",
     "text": [
      "2022-09-02 18:02:03.444508: W tensorflow/stream_executor/platform/default/dso_loader.cc:64] Could not load dynamic library 'libcudart.so.11.0'; dlerror: libcudart.so.11.0: cannot open shared object file: No such file or directory\n",
      "2022-09-02 18:02:03.444706: I tensorflow/stream_executor/cuda/cudart_stub.cc:29] Ignore above cudart dlerror if you do not have a GPU set up on your machine.\n"
     ]
    }
   ],
   "source": [
    "import numpy as np\n",
    "import os\n",
    "import wfdb\n",
    "from collections import Counter\n",
    "import pickle\n",
    "import random\n",
    "import sys\n",
    "from tqdm import tqdm\n",
    "import pandas as pd\n",
    "from sklearn.metrics import classification_report\n",
    "from sklearn.model_selection import train_test_split\n",
    "from sklearn.metrics import f1_score\n",
    "import sklearn.metrics as skm\n",
    "from keras.utils.np_utils import to_categorical\n",
    "from sklearn.utils import class_weight\n",
    "import warnings\n",
    "from sklearn.utils import resample\n",
    "\n",
    "import keras\n",
    "from keras.models import Sequential\n",
    "from keras.layers import Dense, Convolution1D, MaxPool1D, Flatten, Dropout\n",
    "from keras.layers import Input\n",
    "from keras.models import Model\n",
    "from tensorflow.keras.layers import BatchNormalization\n",
    "import keras\n",
    "from keras.callbacks import EarlyStopping, ModelCheckpoint\n",
    "import seaborn as sns\n",
    "import matplotlib.pyplot as plt\n",
    "\n",
    "\n",
    "import itertools"
   ]
  },
  {
   "cell_type": "code",
   "execution_count": 2,
   "metadata": {},
   "outputs": [],
   "source": [
    "def plot_confusion_matrix(cm, classes,\n",
    "                          normalize=False,\n",
    "                          title='Confusion matrix',\n",
    "                          cmap=plt.cm.Blues):\n",
    "    \"\"\"\n",
    "    This function prints and plots the confusion matrix.\n",
    "    Normalization can be applied by setting `normalize=True`.\n",
    "    \"\"\"\n",
    "    if normalize:\n",
    "        cm = cm.astype('float') / cm.sum(axis=1)[:, np.newaxis]\n",
    "        print(\"Normalized confusion matrix\")\n",
    "    else:\n",
    "        print('Confusion matrix, without normalization')\n",
    "\n",
    "    plt.imshow(cm, interpolation='nearest', cmap=cmap)\n",
    "    plt.title(title)\n",
    "    plt.colorbar()\n",
    "    tick_marks = np.arange(len(classes))\n",
    "    plt.xticks(tick_marks, classes, rotation=45)\n",
    "    plt.yticks(tick_marks, classes)\n",
    "\n",
    "    fmt = '.2f' if normalize else 'd'\n",
    "    thresh = cm.max() / 2.\n",
    "    for i, j in itertools.product(range(cm.shape[0]), range(cm.shape[1])):\n",
    "        plt.text(j, i, format(cm[i, j], fmt),\n",
    "                 horizontalalignment=\"center\",\n",
    "                 color=\"white\" if cm[i, j] > thresh else \"black\")\n",
    "\n",
    "    plt.tight_layout()\n",
    "    plt.ylabel('True label')\n",
    "    plt.xlabel('Predicted label')\n"
   ]
  },
  {
   "cell_type": "code",
   "execution_count": 3,
   "metadata": {},
   "outputs": [],
   "source": [
    "def valt(mp):\n",
    "    return (len(mp),mp[10],mp[11],mp[12])\n",
    "\n",
    "def drop_nan(data):\n",
    "    j = 0\n",
    "    for x in data:\n",
    "        if pd.isnull(x):\n",
    "            data[j] = 0\n",
    "        j = j + 1\n",
    "\n",
    "def drop_zero(data):\n",
    "    j = 0\n",
    "    ms = data.mean()\n",
    "    for x in data:\n",
    "        if data[j] == 0.:\n",
    "            data[j] = ms\n",
    "        j = j + 1"
   ]
  },
  {
   "cell_type": "code",
   "execution_count": 4,
   "metadata": {},
   "outputs": [],
   "source": [
    "def network(X_train,y_train,X_test,y_test):\n",
    "    \n",
    "\n",
    "    im_shape=(X_train.shape[1],1)\n",
    "    inputs_cnn=Input(shape=(im_shape), name='inputs_cnn')\n",
    "    conv1_1=Convolution1D(128,(3), activation='relu', input_shape=im_shape)(inputs_cnn)\n",
    "    pool1=MaxPool1D(pool_size=(3), strides=(2), padding=\"same\")(conv1_1)\n",
    "    conv2_1=Convolution1D(128, (3), activation='relu', input_shape=im_shape)(pool1)\n",
    "    pool2=MaxPool1D(pool_size=(3), strides=(2), padding=\"same\")(conv2_1)\n",
    "\n",
    "    conv3_1=Convolution1D(128, (3), activation='relu', input_shape=im_shape)(pool2)\n",
    "    pool3=MaxPool1D(pool_size=(3), strides=(2), padding=\"same\")(conv3_1)\n",
    "\n",
    "    conv4_1=Convolution1D(128, (3), activation='relu', input_shape=im_shape)(pool3)\n",
    "    pool4=MaxPool1D(pool_size=(3), strides=(2), padding=\"same\")(conv4_1)\n",
    "\n",
    "    flatten=Flatten()(pool4)\n",
    "    dense_end1 = Dense(128, activation='relu')(flatten)\n",
    "    main_output = Dense(2, activation='sigmoid', name='main_output')(dense_end1)\n",
    "    \n",
    "    \n",
    "    model = Model(inputs= inputs_cnn, outputs=main_output)\n",
    "    model.compile(optimizer='adam', loss='categorical_crossentropy',metrics = ['accuracy'])\n",
    "    \n",
    "    \n",
    "    #callbacks = [EarlyStopping(monitor='val_loss', patience=10),\n",
    "    #         ModelCheckpoint(filepath='md.bin', monitor='val_loss', save_best_only=True)]\n",
    "\n",
    "    history=model.fit(X_train, y_train,epochs=5, steps_per_epoch=100 ,validation_data=(X_test,y_test))\n",
    "    #model.load_weights('md.h5')\n",
    "    return(model,history)"
   ]
  },
  {
   "cell_type": "code",
   "execution_count": 5,
   "metadata": {},
   "outputs": [],
   "source": [
    "def evaluate_model(history,X_test,y_test,model):\n",
    "    scores = model.evaluate((X_test),y_test, verbose=0)\n",
    "    print(\"Accuracy: %.2f%%\" % (scores[1]*100))\n",
    "    \n",
    "    print(history)\n",
    "    fig1, ax_acc = plt.subplots()\n",
    "    plt.plot(history.history['accuracy'])\n",
    "    plt.plot(history.history['val_accuracy'])\n",
    "    plt.xlabel('Epoch')\n",
    "    plt.ylabel('Accuracy')\n",
    "    plt.title('Model - Accuracy')\n",
    "    plt.legend(['Training', 'Validation'], loc='lower right')\n",
    "    plt.savefig(\"ac_t2\", dpi=300)\n",
    "    plt.show()\n",
    "    \n",
    "    fig2, ax_loss = plt.subplots()\n",
    "    plt.xlabel('Epoch')\n",
    "    plt.ylabel('Loss')\n",
    "    plt.title('Model- Loss')\n",
    "    plt.legend(['Training', 'Validation'], loc='upper right')\n",
    "    plt.plot(history.history['loss'])\n",
    "    plt.plot(history.history['val_loss'])\n",
    "    plt.savefig(\"ac_t_22\", dpi=300)\n",
    "    plt.show()\n",
    "    #target_names=['0','1','2','3','4']\n",
    "    \n",
    "    # Compute confusion matrix\n"
   ]
  },
  {
   "cell_type": "code",
   "execution_count": 6,
   "metadata": {},
   "outputs": [],
   "source": [
    "rhy_dict = {'Sinus rhythm' : 1. ,\n",
    "            'Sinus tachycardia' : 2. ,\n",
    "            'Sinus bradycardia' : 3. ,\n",
    "            'Sinus arrhythmia' : 4. ,\n",
    "            'Irregular sinus rhythm' : 5. ,\n",
    "            'Atrial fibrillation' : 6. ,\n",
    "            'Atrial flutter, typical' : 7. ,\n",
    "            'Abnormal rhythm' : 8. }\n",
    "\n",
    "elec_dict = {'Electric axis of the heart: normal' : 1. ,\n",
    "            'Electric axis of the heart: left axis deviation' : 2. ,\n",
    "            'Electric axis of the heart: vertical' : 3. ,\n",
    "            'Electric axis of the heart: horizontal' : 4. ,\n",
    "            'Electric axis of the heart: right axis deviation' : 5. ,\n",
    "            0. : 0. }\n",
    "\n",
    "con_dict = {'Sinoatrial blockade, undefined' : 1. ,\n",
    "            'I degree av block' : 2. ,\n",
    "            'Iii degree av-block' : 3. ,\n",
    "            'Incomplete right bundle branch block' : 4. ,\n",
    "            'Incomplete left bundle branch block' : 5. ,\n",
    "            'Left anterior hemiblock' : 6. ,\n",
    "            'Complete right bundle branch block' : 7. ,\n",
    "            'Complete left bundle branch block' : 8. ,\n",
    "            'Non-specific intravintricular conduction delay' : 9. ,\n",
    "            0. : 0. }\n",
    "\n",
    "\n",
    "ext_dict = {'Atrial extrasystole: undefined' : 1. ,\n",
    "            'Atrial extrasystole: low atrial' : 2. ,\n",
    "            'Atrial extrasystole: left atrial' : 3. ,\n",
    "            'Atrial extrasystole, SA-nodal extrasystole' : 4. ,\n",
    "            'Atrial extrasystole, type: single pac' : 5. ,\n",
    "            'Atrial extrasystole, type: bigemini' : 6. ,\n",
    "            'Atrial extrasystole, type: quadrigemini' : 7. ,\n",
    "            'Atrial extrasystole, type: allorhythmic pattern' : 8. ,\n",
    "            'Ventricular extrasystole, morphology: polymorphic' : 9. ,\n",
    "            'Ventricular extrasystole, localisation: rvot, anterior wall' : 10. ,\n",
    "            'Ventricular extrasystole, localisation: rvot, antero-septal part' : 11. ,\n",
    "            'Ventricular extrasystole, localisation: IVS, middle part' : 12. ,\n",
    "            'Ventricular extrasystole, localisation: LVOT, LVS' : 13. ,\n",
    "            'Ventricular extrasystole, localisation: LV, undefined' : 14. ,\n",
    "            'Ventricular extrasystole, type: single pvc' : 15. ,\n",
    "            'Ventricular extrasystole, type: intercalary pvc' : 16. ,\n",
    "            'Ventricular extrasystole, type: couplet' : 17. ,\n",
    "            0. : 0. }\n",
    "\n",
    "\n",
    "hyp_dict = {'Right atrial hypertrophy' : 1. ,\n",
    "            'Left atrial hypertrophy' : 2. ,\n",
    "            'Right atrial overload' : 3. ,\n",
    "            'Left atrial overload' : 4. ,\n",
    "            'Left ventricular hypertrophy' : 5. ,\n",
    "            'Right ventricular hypertrophy' : 6. ,\n",
    "            'Left ventricular overload' : 7. ,\n",
    "            0. : 0. }\n",
    "\n",
    "\n",
    "card_dict = {'Pacemaker presence, undefined' : 1. ,\n",
    "            'P-synchrony' : 2. ,\n",
    "            0. : 0. }\n",
    "\n",
    "\n",
    "\n",
    "isch_dict = {'Stemi: anterior wall' : 1. ,\n",
    "            'Stemi: lateral wall' : 2. ,\n",
    "            'Stemi: septal' : 3. ,\n",
    "            'Stemi: inferior wall' : 4. ,\n",
    "            'Stemi: apical' : 5. ,\n",
    "            'Ischemia: anterior wall' : 6. ,\n",
    "            'Ischemia: lateral wall' : 7. ,\n",
    "            'Ischemia: septal' : 8. ,\n",
    "            'Ischemia: inferior wall' : 9. ,\n",
    "            'Ischemia: posterior wall' : 10. ,\n",
    "            'Ischemia: apical' : 11. ,\n",
    "            'Scar formation: lateral wall' : 12. ,\n",
    "            'Scar formation: septal' : 13. ,\n",
    "            'Scar formation: inferior wall' : 14. ,\n",
    "            'Scar formation: posterior wall' : 15. ,\n",
    "            'Scar formation: apical' : 16. ,\n",
    "            'Undefined ischemia/scar/supp.NSTEMI: anterior wall' : 17. ,\n",
    "            'Undefined ischemia/scar/supp.nstemi: lateral wall' : 18. ,\n",
    "            'Undefined ischemia/scar/supp.NSTEMI: septal' : 19. ,\n",
    "            'Undefined ischemia/scar/supp.nstemi: inferior wall' : 20. ,\n",
    "            'Undefined ischemia/scar/supp.nstemi: posterior wall' : 21. ,\n",
    "            'Undefined ischemia/scar/supp.nstemi: apical' : 22. ,\n",
    "            0. : 0. }\n",
    "\n",
    "\n",
    "\n",
    "nons_dict = {'Non-specific repolarization abnormalities: inferior wall' : 1. ,\n",
    "            'Non-specific repolarization abnormalities: lateral wall' : 2. ,\n",
    "            'Non-specific repolarization abnormalities: anterior wall' : 3. ,\n",
    "            'Non-specific repolarization abnormalities: posterior wall' : 4. ,\n",
    "            'Non-specific repolarization abnormalities: apical' : 5. ,\n",
    "            'Non-specific repolarization abnormalities: septal' : 6. ,\n",
    "            0. : 0. }\n",
    "\n",
    "\n",
    "oth_dict = {'Early repolarization syndrome' : 1. ,\n",
    "            0. : 0. }\n",
    "\n",
    "sex_dict = {'M' : 1. ,\n",
    "            'F' : 0. }\n",
    "\n",
    "\n"
   ]
  },
  {
   "cell_type": "code",
   "execution_count": 7,
   "metadata": {},
   "outputs": [],
   "source": [
    "path = 'ludb'\n",
    "save_path = ''\n",
    "# valid_lead = ['MLII', 'II', 'I', 'MLI', 'V5'] \n",
    "#valid_lead = ['MLII'] \n",
    "fs_out = 500\n",
    "test_ratio = 0.2"
   ]
  },
  {
   "cell_type": "code",
   "execution_count": 8,
   "metadata": {},
   "outputs": [],
   "source": [
    "with open(os.path.join(path, 'RECORDS'), 'r') as fin:\n",
    "    all_record_name = fin.read().strip().split('\\n')"
   ]
  },
  {
   "cell_type": "code",
   "execution_count": 9,
   "metadata": {},
   "outputs": [],
   "source": [
    "#all_record_name\n",
    "\n",
    "data_files = [\"ludb/data/\" + file for file in os.listdir(\"ludb/data/\") if \".dat\" in file]\n",
    "\n",
    "\n",
    "data_files = sorted(data_files, key=valt)\n",
    "\n",
    "#data_files\n",
    "\n",
    "chanel = []\n",
    "signal_out = []\n",
    "signal_all = []"
   ]
  },
  {
   "cell_type": "code",
   "execution_count": 10,
   "metadata": {},
   "outputs": [
    {
     "name": "stdout",
     "output_type": "stream",
     "text": [
      "(2400, 5000)\n"
     ]
    }
   ],
   "source": [
    "for miki in data_files:\n",
    "    #signal_out = []\n",
    "    for i in range(12):\n",
    "        chanel = []\n",
    "        chanel.append(i)\n",
    "        sig = wfdb.rdsamp(miki[:-4], channels=chanel)\n",
    "        sig_1d = np.ravel(sig[0])\n",
    "        signal_all.append(sig_1d)\n",
    "\n",
    "        #signal_out.extend(sig_1d)\n",
    "            \n",
    "        #signal_all.append(signal_out)\n",
    "\n",
    "df = pd.DataFrame(signal_all)\n",
    "\n",
    "print(df.shape)"
   ]
  },
  {
   "cell_type": "code",
   "execution_count": 11,
   "metadata": {},
   "outputs": [],
   "source": [
    "df_2 = pd.read_csv(path+'/ludb.csv')"
   ]
  },
  {
   "cell_type": "code",
   "execution_count": 12,
   "metadata": {},
   "outputs": [],
   "source": [
    "df_2['Age'] = df_2['Age'].str.split('\\n').str[0]\n",
    "df_2['Sex'] = df_2['Sex'].str.split('\\n').str[0]\n",
    "df_2['Ischemia'] = df_2['Ischemia'].str.split('\\n').str[0]\n",
    "df_2['Cardiac pacing'] = df_2['Cardiac pacing'].str.split('\\n').str[0]\n",
    "df_2['Extrasystolies'] = df_2['Extrasystolies'].str.split('\\n').str[0]\n",
    "df_2['Non-specific repolarization abnormalities'] = df_2['Non-specific repolarization abnormalities'].str.split('\\n').str[0]\n",
    "df_2['Hypertrophies'] = df_2['Hypertrophies'].str.split('\\n').str[0]\n",
    "df_2['Electric axis of the heart'] = df_2['Electric axis of the heart'].str.split('\\n').str[0]\n",
    "df_2['Rhythms'] = df_2['Rhythms'].str.split('\\n').str[0]\n",
    "df_2['Conduction abnormalities'] = df_2['Conduction abnormalities'].str.split('\\n').str[0]\n",
    "df_2['Other states'] = df_2['Other states'].str.split('\\n').str[0]\n",
    "\n"
   ]
  },
  {
   "cell_type": "code",
   "execution_count": 13,
   "metadata": {},
   "outputs": [
    {
     "name": "stderr",
     "output_type": "stream",
     "text": [
      "/tmp/ipykernel_8592/381579711.py:8: SettingWithCopyWarning: \n",
      "A value is trying to be set on a copy of a slice from a DataFrame\n",
      "\n",
      "See the caveats in the documentation: https://pandas.pydata.org/pandas-docs/stable/user_guide/indexing.html#returning-a-view-versus-a-copy\n",
      "  data[j] = 0\n"
     ]
    }
   ],
   "source": [
    "drop_nan(df_2['Conduction abnormalities'])\n",
    "drop_nan(df_2['Extrasystolies'])\n",
    "drop_nan(df_2['Hypertrophies'])\n",
    "drop_nan(df_2['Cardiac pacing'])\n",
    "drop_nan(df_2['Ischemia'])\n",
    "drop_nan(df_2['Non-specific repolarization abnormalities'])\n",
    "drop_nan(df_2['Other states'])\n",
    "drop_nan(df_2['Electric axis of the heart'])\n"
   ]
  },
  {
   "cell_type": "code",
   "execution_count": 14,
   "metadata": {},
   "outputs": [
    {
     "name": "stderr",
     "output_type": "stream",
     "text": [
      "/tmp/ipykernel_8592/1896537462.py:13: SettingWithCopyWarning: \n",
      "A value is trying to be set on a copy of a slice from a DataFrame\n",
      "\n",
      "See the caveats in the documentation: https://pandas.pydata.org/pandas-docs/stable/user_guide/indexing.html#returning-a-view-versus-a-copy\n",
      "  df_2['Age'][df_2['ID'] == 34] = '89'\n"
     ]
    }
   ],
   "source": [
    "df_2['Rhythms'] = [rhy_dict[item] for item in df_2['Rhythms']]\n",
    "df_2['Electric axis of the heart'] = [elec_dict[item] for item in df_2['Electric axis of the heart']]\n",
    "df_2['Conduction abnormalities'] = [con_dict[item] for item in df_2['Conduction abnormalities']]\n",
    "df_2['Extrasystolies'] = [ext_dict[item] for item in df_2['Extrasystolies']]\n",
    "df_2['Hypertrophies'] = [hyp_dict[item] for item in df_2['Hypertrophies']]\n",
    "df_2['Cardiac pacing'] = [card_dict[item] for item in df_2['Cardiac pacing']]\n",
    "df_2['Ischemia'] = [isch_dict[item] for item in df_2['Ischemia']]\n",
    "df_2['Non-specific repolarization abnormalities'] = [nons_dict[item] for item in df_2['Non-specific repolarization abnormalities']]\n",
    "df_2['Other states'] = [oth_dict[item] for item in df_2['Other states']]\n",
    "df_2['Sex'] = [sex_dict[item] for item in df_2['Sex']]\n",
    "\n",
    "\n",
    "df_2['Age'][df_2['ID'] == 34] = '89'\n",
    "\n",
    "#df_2.astype('float')\n",
    "df_2['Age'] = df_2['Age'].astype('float')"
   ]
  },
  {
   "cell_type": "code",
   "execution_count": 15,
   "metadata": {},
   "outputs": [
    {
     "name": "stderr",
     "output_type": "stream",
     "text": [
      "/tmp/ipykernel_8592/381579711.py:16: SettingWithCopyWarning: \n",
      "A value is trying to be set on a copy of a slice from a DataFrame\n",
      "\n",
      "See the caveats in the documentation: https://pandas.pydata.org/pandas-docs/stable/user_guide/indexing.html#returning-a-view-versus-a-copy\n",
      "  data[j] = ms\n"
     ]
    }
   ],
   "source": [
    "drop_zero(df_2['Conduction abnormalities'])\n",
    "drop_zero(df_2['Extrasystolies'])\n",
    "drop_zero(df_2['Hypertrophies'])\n",
    "drop_zero(df_2['Cardiac pacing'])\n",
    "drop_zero(df_2['Ischemia'])\n",
    "drop_zero(df_2['Non-specific repolarization abnormalities'])\n",
    "drop_zero(df_2['Other states'])\n",
    "drop_zero(df_2['Electric axis of the heart'])\n"
   ]
  },
  {
   "cell_type": "code",
   "execution_count": 16,
   "metadata": {},
   "outputs": [
    {
     "name": "stdout",
     "output_type": "stream",
     "text": [
      "(2400, 12)\n"
     ]
    }
   ],
   "source": [
    "df_n=[]\n",
    "for j in range(200):\n",
    "    dd = df_2.iloc[j:j+1,:]\n",
    "    for i in range(12):\n",
    "        df_n.append(dd)\n",
    "\n",
    "a = np.reshape(df_n, (2400,12))\n",
    "\n",
    "df_fn2 = pd.DataFrame(a)\n",
    "\n",
    "df_fn2.columns = ['ID', 'Sex', 'Age', 'Rhythms', 'Electric axis of the heart', 'Conduction abnormalities', 'Extrasystolies', 'Hypertrophies', 'Cardiac pacing', 'Ischemia', 'Non-specific repolarization abnormalities', 'Other states']\n",
    "print(df_fn2.shape)\n"
   ]
  },
  {
   "cell_type": "code",
   "execution_count": 17,
   "metadata": {},
   "outputs": [],
   "source": [
    "df_all = pd.concat([df,df_fn2], axis=1)\n",
    "all_record_new = []\n",
    "\n",
    "for code in all_record_name:\n",
    "    all_record_new.append(int(code[5:]))"
   ]
  },
  {
   "cell_type": "code",
   "execution_count": 19,
   "metadata": {},
   "outputs": [
    {
     "name": "stderr",
     "output_type": "stream",
     "text": [
      "/tmp/ipykernel_8592/1733102047.py:5: FutureWarning: In a future version of pandas all arguments of DataFrame.drop except for the argument 'labels' will be keyword-only.\n",
      "  predictors.drop(['Rhythms', 'Electric axis of the heart', 'Conduction abnormalities', 'Extrasystolies', 'Hypertrophies', 'Cardiac pacing', 'Ischemia', 'Non-specific repolarization abnormalities', 'Other states'],1,inplace=True)\n",
      "/tmp/ipykernel_8592/1733102047.py:6: FutureWarning: In a future version of pandas all arguments of DataFrame.drop except for the argument 'labels' will be keyword-only.\n",
      "  predictors.drop('ID',1,inplace=True)\n",
      "/tmp/ipykernel_8592/1733102047.py:7: FutureWarning: In a future version of pandas all arguments of DataFrame.drop except for the argument 'labels' will be keyword-only.\n",
      "  predictors.drop('Age',1,inplace=True)\n",
      "/tmp/ipykernel_8592/1733102047.py:8: FutureWarning: In a future version of pandas all arguments of DataFrame.drop except for the argument 'labels' will be keyword-only.\n",
      "  predictors.drop('Sex',1,inplace=True)\n"
     ]
    }
   ],
   "source": [
    "predictors= df_all\n",
    "\n",
    "ps = ['Rhythms', 'Electric axis of the heart']\n",
    "target = df_all[ps] # Strength column\n",
    "predictors.drop(['Rhythms', 'Electric axis of the heart', 'Conduction abnormalities', 'Extrasystolies', 'Hypertrophies', 'Cardiac pacing', 'Ischemia', 'Non-specific repolarization abnormalities', 'Other states'],1,inplace=True)\n",
    "predictors.drop('ID',1,inplace=True)\n",
    "predictors.drop('Age',1,inplace=True)\n",
    "predictors.drop('Sex',1,inplace=True)"
   ]
  },
  {
   "cell_type": "code",
   "execution_count": 20,
   "metadata": {},
   "outputs": [],
   "source": [
    "predictors = predictors.iloc[:,0:35000]"
   ]
  },
  {
   "cell_type": "code",
   "execution_count": 21,
   "metadata": {},
   "outputs": [],
   "source": [
    "X_train, X_test, y_train, y_test = train_test_split(predictors, target, test_size=0.20, random_state=42)"
   ]
  },
  {
   "cell_type": "code",
   "execution_count": 22,
   "metadata": {},
   "outputs": [
    {
     "data": {
      "text/html": [
       "<div>\n",
       "<style scoped>\n",
       "    .dataframe tbody tr th:only-of-type {\n",
       "        vertical-align: middle;\n",
       "    }\n",
       "\n",
       "    .dataframe tbody tr th {\n",
       "        vertical-align: top;\n",
       "    }\n",
       "\n",
       "    .dataframe thead th {\n",
       "        text-align: right;\n",
       "    }\n",
       "</style>\n",
       "<table border=\"1\" class=\"dataframe\">\n",
       "  <thead>\n",
       "    <tr style=\"text-align: right;\">\n",
       "      <th></th>\n",
       "      <th>0</th>\n",
       "      <th>1</th>\n",
       "      <th>2</th>\n",
       "      <th>3</th>\n",
       "      <th>4</th>\n",
       "      <th>5</th>\n",
       "      <th>6</th>\n",
       "      <th>7</th>\n",
       "      <th>8</th>\n",
       "      <th>9</th>\n",
       "      <th>...</th>\n",
       "      <th>4990</th>\n",
       "      <th>4991</th>\n",
       "      <th>4992</th>\n",
       "      <th>4993</th>\n",
       "      <th>4994</th>\n",
       "      <th>4995</th>\n",
       "      <th>4996</th>\n",
       "      <th>4997</th>\n",
       "      <th>4998</th>\n",
       "      <th>4999</th>\n",
       "    </tr>\n",
       "  </thead>\n",
       "  <tbody>\n",
       "    <tr>\n",
       "      <th>2037</th>\n",
       "      <td>-0.029258</td>\n",
       "      <td>-0.029258</td>\n",
       "      <td>-0.036050</td>\n",
       "      <td>-0.042320</td>\n",
       "      <td>-0.046499</td>\n",
       "      <td>-0.046499</td>\n",
       "      <td>-0.044932</td>\n",
       "      <td>-0.046499</td>\n",
       "      <td>-0.051724</td>\n",
       "      <td>-0.059561</td>\n",
       "      <td>...</td>\n",
       "      <td>-0.010972</td>\n",
       "      <td>-0.009927</td>\n",
       "      <td>-0.012539</td>\n",
       "      <td>-0.015152</td>\n",
       "      <td>-0.015152</td>\n",
       "      <td>-0.013584</td>\n",
       "      <td>-0.016196</td>\n",
       "      <td>-0.012539</td>\n",
       "      <td>0.019854</td>\n",
       "      <td>0.011494</td>\n",
       "    </tr>\n",
       "    <tr>\n",
       "      <th>1978</th>\n",
       "      <td>-0.145934</td>\n",
       "      <td>-0.149451</td>\n",
       "      <td>-0.147253</td>\n",
       "      <td>-0.145055</td>\n",
       "      <td>-0.145055</td>\n",
       "      <td>-0.148132</td>\n",
       "      <td>-0.148132</td>\n",
       "      <td>-0.145055</td>\n",
       "      <td>-0.148132</td>\n",
       "      <td>-0.147253</td>\n",
       "      <td>...</td>\n",
       "      <td>0.104176</td>\n",
       "      <td>0.112088</td>\n",
       "      <td>0.106374</td>\n",
       "      <td>0.099780</td>\n",
       "      <td>0.101099</td>\n",
       "      <td>0.103297</td>\n",
       "      <td>0.097582</td>\n",
       "      <td>0.105495</td>\n",
       "      <td>0.112088</td>\n",
       "      <td>0.044835</td>\n",
       "    </tr>\n",
       "    <tr>\n",
       "      <th>855</th>\n",
       "      <td>0.291179</td>\n",
       "      <td>0.298830</td>\n",
       "      <td>0.306481</td>\n",
       "      <td>0.314581</td>\n",
       "      <td>0.319532</td>\n",
       "      <td>0.319982</td>\n",
       "      <td>0.319532</td>\n",
       "      <td>0.319082</td>\n",
       "      <td>0.316832</td>\n",
       "      <td>0.312781</td>\n",
       "      <td>...</td>\n",
       "      <td>-0.181818</td>\n",
       "      <td>-0.182718</td>\n",
       "      <td>-0.183618</td>\n",
       "      <td>-0.184518</td>\n",
       "      <td>-0.185419</td>\n",
       "      <td>-0.185419</td>\n",
       "      <td>-0.185869</td>\n",
       "      <td>-0.122862</td>\n",
       "      <td>-0.038704</td>\n",
       "      <td>-0.010801</td>\n",
       "    </tr>\n",
       "    <tr>\n",
       "      <th>1719</th>\n",
       "      <td>0.057100</td>\n",
       "      <td>0.070624</td>\n",
       "      <td>0.073629</td>\n",
       "      <td>0.066867</td>\n",
       "      <td>0.042825</td>\n",
       "      <td>0.054846</td>\n",
       "      <td>0.053343</td>\n",
       "      <td>0.061608</td>\n",
       "      <td>0.058603</td>\n",
       "      <td>0.028550</td>\n",
       "      <td>...</td>\n",
       "      <td>0.005259</td>\n",
       "      <td>-0.011270</td>\n",
       "      <td>-0.004508</td>\n",
       "      <td>0.004508</td>\n",
       "      <td>-0.000751</td>\n",
       "      <td>-0.006011</td>\n",
       "      <td>0.010518</td>\n",
       "      <td>0.015778</td>\n",
       "      <td>0.009016</td>\n",
       "      <td>0.003005</td>\n",
       "    </tr>\n",
       "    <tr>\n",
       "      <th>2019</th>\n",
       "      <td>-0.210372</td>\n",
       "      <td>-0.192759</td>\n",
       "      <td>-0.175147</td>\n",
       "      <td>-0.171233</td>\n",
       "      <td>-0.181996</td>\n",
       "      <td>-0.187867</td>\n",
       "      <td>-0.180039</td>\n",
       "      <td>-0.223092</td>\n",
       "      <td>-0.220157</td>\n",
       "      <td>-0.194716</td>\n",
       "      <td>...</td>\n",
       "      <td>-0.172211</td>\n",
       "      <td>-0.173190</td>\n",
       "      <td>-0.175147</td>\n",
       "      <td>-0.163405</td>\n",
       "      <td>-0.153620</td>\n",
       "      <td>-0.125245</td>\n",
       "      <td>-0.119374</td>\n",
       "      <td>-0.082192</td>\n",
       "      <td>-0.084149</td>\n",
       "      <td>-0.038160</td>\n",
       "    </tr>\n",
       "    <tr>\n",
       "      <th>...</th>\n",
       "      <td>...</td>\n",
       "      <td>...</td>\n",
       "      <td>...</td>\n",
       "      <td>...</td>\n",
       "      <td>...</td>\n",
       "      <td>...</td>\n",
       "      <td>...</td>\n",
       "      <td>...</td>\n",
       "      <td>...</td>\n",
       "      <td>...</td>\n",
       "      <td>...</td>\n",
       "      <td>...</td>\n",
       "      <td>...</td>\n",
       "      <td>...</td>\n",
       "      <td>...</td>\n",
       "      <td>...</td>\n",
       "      <td>...</td>\n",
       "      <td>...</td>\n",
       "      <td>...</td>\n",
       "      <td>...</td>\n",
       "      <td>...</td>\n",
       "    </tr>\n",
       "    <tr>\n",
       "      <th>1832</th>\n",
       "      <td>-0.120140</td>\n",
       "      <td>-0.120140</td>\n",
       "      <td>-0.121137</td>\n",
       "      <td>-0.120140</td>\n",
       "      <td>-0.121137</td>\n",
       "      <td>-0.117647</td>\n",
       "      <td>-0.120140</td>\n",
       "      <td>-0.120140</td>\n",
       "      <td>-0.120140</td>\n",
       "      <td>-0.118644</td>\n",
       "      <td>...</td>\n",
       "      <td>0.188933</td>\n",
       "      <td>0.188933</td>\n",
       "      <td>0.191426</td>\n",
       "      <td>0.194915</td>\n",
       "      <td>0.194915</td>\n",
       "      <td>0.201396</td>\n",
       "      <td>0.206381</td>\n",
       "      <td>0.211366</td>\n",
       "      <td>0.212363</td>\n",
       "      <td>0.085244</td>\n",
       "    </tr>\n",
       "    <tr>\n",
       "      <th>203</th>\n",
       "      <td>-0.274869</td>\n",
       "      <td>-0.261780</td>\n",
       "      <td>-0.261780</td>\n",
       "      <td>-0.298429</td>\n",
       "      <td>-0.304974</td>\n",
       "      <td>-0.307592</td>\n",
       "      <td>-0.307592</td>\n",
       "      <td>-0.307592</td>\n",
       "      <td>-0.307592</td>\n",
       "      <td>-0.304974</td>\n",
       "      <td>...</td>\n",
       "      <td>0.035340</td>\n",
       "      <td>0.054974</td>\n",
       "      <td>0.044503</td>\n",
       "      <td>0.041885</td>\n",
       "      <td>0.048429</td>\n",
       "      <td>0.081152</td>\n",
       "      <td>0.028796</td>\n",
       "      <td>0.000000</td>\n",
       "      <td>-0.036649</td>\n",
       "      <td>-0.032723</td>\n",
       "    </tr>\n",
       "    <tr>\n",
       "      <th>174</th>\n",
       "      <td>0.061756</td>\n",
       "      <td>0.067708</td>\n",
       "      <td>0.067708</td>\n",
       "      <td>0.045387</td>\n",
       "      <td>0.052827</td>\n",
       "      <td>0.052827</td>\n",
       "      <td>0.052827</td>\n",
       "      <td>0.052827</td>\n",
       "      <td>0.054315</td>\n",
       "      <td>0.052827</td>\n",
       "      <td>...</td>\n",
       "      <td>0.054315</td>\n",
       "      <td>0.052827</td>\n",
       "      <td>0.049107</td>\n",
       "      <td>0.052827</td>\n",
       "      <td>0.052827</td>\n",
       "      <td>0.046875</td>\n",
       "      <td>0.050595</td>\n",
       "      <td>0.028274</td>\n",
       "      <td>0.009673</td>\n",
       "      <td>-0.007440</td>\n",
       "    </tr>\n",
       "    <tr>\n",
       "      <th>420</th>\n",
       "      <td>-0.025581</td>\n",
       "      <td>-0.024419</td>\n",
       "      <td>-0.024419</td>\n",
       "      <td>-0.024419</td>\n",
       "      <td>-0.024419</td>\n",
       "      <td>-0.024419</td>\n",
       "      <td>-0.024419</td>\n",
       "      <td>-0.024419</td>\n",
       "      <td>-0.024419</td>\n",
       "      <td>-0.024419</td>\n",
       "      <td>...</td>\n",
       "      <td>0.027907</td>\n",
       "      <td>0.116279</td>\n",
       "      <td>0.208140</td>\n",
       "      <td>0.241860</td>\n",
       "      <td>0.198837</td>\n",
       "      <td>0.130233</td>\n",
       "      <td>0.068605</td>\n",
       "      <td>0.037209</td>\n",
       "      <td>0.026744</td>\n",
       "      <td>0.023256</td>\n",
       "    </tr>\n",
       "    <tr>\n",
       "      <th>892</th>\n",
       "      <td>0.020531</td>\n",
       "      <td>0.027778</td>\n",
       "      <td>0.033816</td>\n",
       "      <td>0.039855</td>\n",
       "      <td>0.043478</td>\n",
       "      <td>0.044686</td>\n",
       "      <td>0.044686</td>\n",
       "      <td>0.044686</td>\n",
       "      <td>0.044686</td>\n",
       "      <td>0.044686</td>\n",
       "      <td>...</td>\n",
       "      <td>-0.111111</td>\n",
       "      <td>-0.111111</td>\n",
       "      <td>-0.111111</td>\n",
       "      <td>-0.130435</td>\n",
       "      <td>-0.171498</td>\n",
       "      <td>-0.222222</td>\n",
       "      <td>-0.161836</td>\n",
       "      <td>-0.048309</td>\n",
       "      <td>-0.010870</td>\n",
       "      <td>0.002415</td>\n",
       "    </tr>\n",
       "  </tbody>\n",
       "</table>\n",
       "<p>480 rows × 5000 columns</p>\n",
       "</div>"
      ],
      "text/plain": [
       "          0         1         2         3         4         5         6     \\\n",
       "2037 -0.029258 -0.029258 -0.036050 -0.042320 -0.046499 -0.046499 -0.044932   \n",
       "1978 -0.145934 -0.149451 -0.147253 -0.145055 -0.145055 -0.148132 -0.148132   \n",
       "855   0.291179  0.298830  0.306481  0.314581  0.319532  0.319982  0.319532   \n",
       "1719  0.057100  0.070624  0.073629  0.066867  0.042825  0.054846  0.053343   \n",
       "2019 -0.210372 -0.192759 -0.175147 -0.171233 -0.181996 -0.187867 -0.180039   \n",
       "...        ...       ...       ...       ...       ...       ...       ...   \n",
       "1832 -0.120140 -0.120140 -0.121137 -0.120140 -0.121137 -0.117647 -0.120140   \n",
       "203  -0.274869 -0.261780 -0.261780 -0.298429 -0.304974 -0.307592 -0.307592   \n",
       "174   0.061756  0.067708  0.067708  0.045387  0.052827  0.052827  0.052827   \n",
       "420  -0.025581 -0.024419 -0.024419 -0.024419 -0.024419 -0.024419 -0.024419   \n",
       "892   0.020531  0.027778  0.033816  0.039855  0.043478  0.044686  0.044686   \n",
       "\n",
       "          7         8         9     ...      4990      4991      4992  \\\n",
       "2037 -0.046499 -0.051724 -0.059561  ... -0.010972 -0.009927 -0.012539   \n",
       "1978 -0.145055 -0.148132 -0.147253  ...  0.104176  0.112088  0.106374   \n",
       "855   0.319082  0.316832  0.312781  ... -0.181818 -0.182718 -0.183618   \n",
       "1719  0.061608  0.058603  0.028550  ...  0.005259 -0.011270 -0.004508   \n",
       "2019 -0.223092 -0.220157 -0.194716  ... -0.172211 -0.173190 -0.175147   \n",
       "...        ...       ...       ...  ...       ...       ...       ...   \n",
       "1832 -0.120140 -0.120140 -0.118644  ...  0.188933  0.188933  0.191426   \n",
       "203  -0.307592 -0.307592 -0.304974  ...  0.035340  0.054974  0.044503   \n",
       "174   0.052827  0.054315  0.052827  ...  0.054315  0.052827  0.049107   \n",
       "420  -0.024419 -0.024419 -0.024419  ...  0.027907  0.116279  0.208140   \n",
       "892   0.044686  0.044686  0.044686  ... -0.111111 -0.111111 -0.111111   \n",
       "\n",
       "          4993      4994      4995      4996      4997      4998      4999  \n",
       "2037 -0.015152 -0.015152 -0.013584 -0.016196 -0.012539  0.019854  0.011494  \n",
       "1978  0.099780  0.101099  0.103297  0.097582  0.105495  0.112088  0.044835  \n",
       "855  -0.184518 -0.185419 -0.185419 -0.185869 -0.122862 -0.038704 -0.010801  \n",
       "1719  0.004508 -0.000751 -0.006011  0.010518  0.015778  0.009016  0.003005  \n",
       "2019 -0.163405 -0.153620 -0.125245 -0.119374 -0.082192 -0.084149 -0.038160  \n",
       "...        ...       ...       ...       ...       ...       ...       ...  \n",
       "1832  0.194915  0.194915  0.201396  0.206381  0.211366  0.212363  0.085244  \n",
       "203   0.041885  0.048429  0.081152  0.028796  0.000000 -0.036649 -0.032723  \n",
       "174   0.052827  0.052827  0.046875  0.050595  0.028274  0.009673 -0.007440  \n",
       "420   0.241860  0.198837  0.130233  0.068605  0.037209  0.026744  0.023256  \n",
       "892  -0.130435 -0.171498 -0.222222 -0.161836 -0.048309 -0.010870  0.002415  \n",
       "\n",
       "[480 rows x 5000 columns]"
      ]
     },
     "execution_count": 22,
     "metadata": {},
     "output_type": "execute_result"
    }
   ],
   "source": [
    "X_test"
   ]
  },
  {
   "cell_type": "code",
   "execution_count": 23,
   "metadata": {},
   "outputs": [],
   "source": [
    "import mlflow\n",
    "import os\n",
    "\n",
    "os.environ[\"AWS_PROFILE\"] = \"tex-profile\" # fill in with your AWS profile. More info: https://docs.aws.amazon.com/sdk-for-java/latest/developer-guide/setup.html#setup-credentials\n",
    "\n",
    "TRACKING_SERVER_HOST = \"ec2-35-90-124-148.us-west-2.compute.amazonaws.com\" # fill in with the public DNS of the EC2 instance\n",
    "mlflow.set_tracking_uri(f\"http://{TRACKING_SERVER_HOST}:5000\")"
   ]
  },
  {
   "cell_type": "code",
   "execution_count": 24,
   "metadata": {},
   "outputs": [
    {
     "name": "stdout",
     "output_type": "stream",
     "text": [
      "tracking URI: 'http://ec2-35-90-124-148.us-west-2.compute.amazonaws.com:5000'\n"
     ]
    }
   ],
   "source": [
    "print(f\"tracking URI: '{mlflow.get_tracking_uri()}'\")"
   ]
  },
  {
   "cell_type": "code",
   "execution_count": 25,
   "metadata": {},
   "outputs": [
    {
     "data": {
      "text/plain": [
       "[<Experiment: artifact_location='s3://mlflow-artifact-remote-tex/0', experiment_id='0', lifecycle_stage='active', name='Default', tags={}>,\n",
       " <Experiment: artifact_location='s3://mlflow-artifact-remote-tex/1', experiment_id='1', lifecycle_stage='active', name='my-experiment-1', tags={}>,\n",
       " <Experiment: artifact_location='s3://mlflow-artifact-remote-tex/2', experiment_id='2', lifecycle_stage='active', name='my-experiment-2', tags={}>,\n",
       " <Experiment: artifact_location='s3://mlflow-artifact-remote-tex/3', experiment_id='3', lifecycle_stage='active', name='my-experiment-3', tags={}>,\n",
       " <Experiment: artifact_location='s3://mlflow-artifact-remote-tex/4', experiment_id='4', lifecycle_stage='active', name='my-experiment-4', tags={}>,\n",
       " <Experiment: artifact_location='s3://mlflow-artifact-remote-tex/5', experiment_id='5', lifecycle_stage='active', name='my_experiment_5', tags={}>]"
      ]
     },
     "execution_count": 25,
     "metadata": {},
     "output_type": "execute_result"
    }
   ],
   "source": [
    "mlflow.list_experiments()"
   ]
  },
  {
   "cell_type": "code",
   "execution_count": 26,
   "metadata": {},
   "outputs": [
    {
     "name": "stderr",
     "output_type": "stream",
     "text": [
      "Exception ignored on calling ctypes callback function: <function _ThreadpoolInfo._find_modules_with_dl_iterate_phdr.<locals>.match_module_callback at 0x7f3c88cc3a60>\n",
      "Traceback (most recent call last):\n",
      "  File \"/home/miki/anaconda3/lib/python3.9/site-packages/threadpoolctl.py\", line 400, in match_module_callback\n",
      "    self._make_module_from_path(filepath)\n",
      "  File \"/home/miki/anaconda3/lib/python3.9/site-packages/threadpoolctl.py\", line 515, in _make_module_from_path\n",
      "    module = module_class(filepath, prefix, user_api, internal_api)\n",
      "  File \"/home/miki/anaconda3/lib/python3.9/site-packages/threadpoolctl.py\", line 606, in __init__\n",
      "    self.version = self.get_version()\n",
      "  File \"/home/miki/anaconda3/lib/python3.9/site-packages/threadpoolctl.py\", line 646, in get_version\n",
      "    config = get_config().split()\n",
      "AttributeError: 'NoneType' object has no attribute 'split'\n",
      "2022/09/02 18:07:16 INFO mlflow.tracking.fluent: Autologging successfully enabled for sklearn.\n",
      "2022/09/02 18:07:17 WARNING mlflow.utils.autologging_utils: MLflow autologging encountered a warning: \"/home/miki/anaconda3/lib/python3.9/site-packages/statsmodels/tsa/base/tsa_model.py:7: FutureWarning: pandas.Int64Index is deprecated and will be removed from pandas in a future version. Use pandas.Index with the appropriate dtype instead.\"\n",
      "2022/09/02 18:07:17 WARNING mlflow.utils.autologging_utils: MLflow autologging encountered a warning: \"/home/miki/anaconda3/lib/python3.9/site-packages/statsmodels/tsa/base/tsa_model.py:7: FutureWarning: pandas.Float64Index is deprecated and will be removed from pandas in a future version. Use pandas.Index with the appropriate dtype instead.\"\n",
      "2022/09/02 18:07:20 INFO mlflow.tracking.fluent: Autologging successfully enabled for statsmodels.\n",
      "2022/09/02 18:07:21 INFO mlflow.tracking.fluent: Autologging successfully enabled for tensorflow.\n",
      "2022-09-02 18:07:23.867435: E tensorflow/stream_executor/cuda/cuda_driver.cc:271] failed call to cuInit: CUDA_ERROR_NO_DEVICE: no CUDA-capable device is detected\n",
      "2022-09-02 18:07:23.867472: I tensorflow/stream_executor/cuda/cuda_diagnostics.cc:156] kernel driver does not appear to be running on this host (miki-ThinkPad-E570): /proc/driver/nvidia/version does not exist\n",
      "2022-09-02 18:07:23.915469: I tensorflow/core/platform/cpu_feature_guard.cc:151] This TensorFlow binary is optimized with oneAPI Deep Neural Network Library (oneDNN) to use the following CPU instructions in performance-critical operations:  AVX2 FMA\n",
      "To enable them in other operations, rebuild TensorFlow with the appropriate compiler flags.\n",
      "2022-09-02 18:07:25.347890: W tensorflow/core/framework/cpu_allocator_impl.cc:82] Allocation of 20381696 exceeds 10% of free system memory.\n",
      "2022-09-02 18:07:25.363462: W tensorflow/core/framework/cpu_allocator_impl.cc:82] Allocation of 20381696 exceeds 10% of free system memory.\n",
      "2022-09-02 18:07:25.367666: W tensorflow/core/framework/cpu_allocator_impl.cc:82] Allocation of 20381696 exceeds 10% of free system memory.\n",
      "2022-09-02 18:07:27.042387: W tensorflow/core/framework/cpu_allocator_impl.cc:82] Allocation of 76800000 exceeds 10% of free system memory.\n"
     ]
    },
    {
     "name": "stdout",
     "output_type": "stream",
     "text": [
      "Epoch 1/5\n"
     ]
    },
    {
     "name": "stderr",
     "output_type": "stream",
     "text": [
      "2022-09-02 18:07:44.652010: W tensorflow/core/framework/cpu_allocator_impl.cc:82] Allocation of 20381696 exceeds 10% of free system memory.\n"
     ]
    },
    {
     "name": "stdout",
     "output_type": "stream",
     "text": [
      "100/100 [==============================] - 62s 586ms/step - loss: 991758.9375 - accuracy: 0.4810 - val_loss: 4844359.5000 - val_accuracy: 0.4458\n",
      "Epoch 2/5\n",
      "100/100 [==============================] - 55s 548ms/step - loss: 330102816.0000 - accuracy: 0.4740 - val_loss: 1330825984.0000 - val_accuracy: 0.4458\n",
      "Epoch 3/5\n",
      "100/100 [==============================] - 53s 533ms/step - loss: 15073824768.0000 - accuracy: 0.4835 - val_loss: 9393553408.0000 - val_accuracy: 0.4458\n",
      "Epoch 4/5\n",
      "100/100 [==============================] - 53s 526ms/step - loss: 23987574784.0000 - accuracy: 0.4785 - val_loss: 48751034368.0000 - val_accuracy: 0.4458\n",
      "Epoch 5/5\n",
      " 80/100 [=======================>......] - ETA: 9s - loss: 207645229056.0000 - accuracy: 0.4894 WARNING:tensorflow:Your input ran out of data; interrupting training. Make sure that your dataset or generator can generate at least `steps_per_epoch * epochs` batches (in this case, 500 batches). You may need to use the repeat() function when building your dataset.\n",
      "100/100 [==============================] - 44s 442ms/step - loss: 207645229056.0000 - accuracy: 0.4894 - val_loss: 302188232704.0000 - val_accuracy: 0.4458\n"
     ]
    },
    {
     "name": "stderr",
     "output_type": "stream",
     "text": [
      "2022-09-02 18:12:11.691165: W tensorflow/python/util/util.cc:368] Sets are not currently considered sequences, but this may change in the future, so consider avoiding using them.\n"
     ]
    },
    {
     "name": "stdout",
     "output_type": "stream",
     "text": [
      "INFO:tensorflow:Assets written to: /tmp/tmp32p4k1r4/model/data/model/assets\n"
     ]
    },
    {
     "name": "stderr",
     "output_type": "stream",
     "text": [
      "2022/09/02 18:13:12 WARNING mlflow.utils.autologging_utils: MLflow autologging encountered a warning: \"/home/miki/anaconda3/lib/python3.9/site-packages/_distutils_hack/__init__.py:33: UserWarning: Setuptools is replacing distutils.\"\n"
     ]
    },
    {
     "name": "stdout",
     "output_type": "stream",
     "text": [
      "INFO:tensorflow:Assets written to: ram://67adb72e-7fbe-4b07-b785-e8ff3be82910/assets\n",
      "default artifacts URI: 's3://mlflow-artifact-remote-tex/1/7c2bc868e56a43c4b68aacd58edb6569/artifacts'\n"
     ]
    }
   ],
   "source": [
    "from sklearn.metrics import accuracy_score\n",
    "mlflow.set_experiment(\"my-experiment-1\")\n",
    "\n",
    "with mlflow.start_run():\n",
    "\n",
    "    params = {\"epoch\": 5, \"step_per_epoch\": 100}\n",
    "    mlflow.log_params(params)\n",
    "    mlflow.autolog()\n",
    "\n",
    "    model,history=network(X_train,y_train,X_test,y_test)\n",
    "    y_pred = np.array(model.predict(X_test))\n",
    "    y_test_ = np.array(y_test)\n",
    "    mlflow.log_metric(\"accuracy\", accuracy_score(y_test_.argmax(axis=1), y_pred.argmax(axis=1)))\n",
    "\n",
    "    mlflow.sklearn.log_model(model, artifact_path=\"models\")\n",
    "    print(f\"default artifacts URI: '{mlflow.get_artifact_uri()}'\")"
   ]
  },
  {
   "cell_type": "code",
   "execution_count": 47,
   "metadata": {},
   "outputs": [
    {
     "name": "stderr",
     "output_type": "stream",
     "text": [
      "2022/08/31 03:26:38 INFO mlflow.tracking.fluent: Experiment with name 'my-experiment-2' does not exist. Creating a new experiment.\n"
     ]
    },
    {
     "name": "stdout",
     "output_type": "stream",
     "text": [
      "Epoch 1/15\n",
      "100/100 [==============================] - 4s 38ms/step - loss: 1839997.1250 - accuracy: 0.4770 - val_loss: 16131903.0000 - val_accuracy: 0.4458\n",
      "Epoch 2/15\n",
      "100/100 [==============================] - 4s 36ms/step - loss: 557766784.0000 - accuracy: 0.4755 - val_loss: 2255287552.0000 - val_accuracy: 0.4458\n",
      "Epoch 3/15\n",
      "100/100 [==============================] - 4s 36ms/step - loss: 11756252160.0000 - accuracy: 0.4755 - val_loss: 30993899520.0000 - val_accuracy: 0.4458\n",
      "Epoch 4/15\n",
      "100/100 [==============================] - 4s 38ms/step - loss: 81282777088.0000 - accuracy: 0.4750 - val_loss: 167858503680.0000 - val_accuracy: 0.4458\n",
      "Epoch 5/15\n",
      "100/100 [==============================] - 4s 36ms/step - loss: 312212258816.0000 - accuracy: 0.4795 - val_loss: 530717409280.0000 - val_accuracy: 0.4458\n",
      "Epoch 6/15\n",
      "100/100 [==============================] - 4s 38ms/step - loss: 929200537600.0000 - accuracy: 0.4775 - val_loss: 1487249473536.0000 - val_accuracy: 0.4458\n",
      "Epoch 7/15\n",
      "100/100 [==============================] - 4s 36ms/step - loss: 2261636349952.0000 - accuracy: 0.4745 - val_loss: 3085168017408.0000 - val_accuracy: 0.4458\n",
      "Epoch 8/15\n",
      "100/100 [==============================] - 4s 35ms/step - loss: 4589085523968.0000 - accuracy: 0.4850 - val_loss: 6356956348416.0000 - val_accuracy: 0.4458\n",
      "Epoch 9/15\n",
      "100/100 [==============================] - 4s 36ms/step - loss: 8073058451456.0000 - accuracy: 0.4695 - val_loss: 11412896219136.0000 - val_accuracy: 0.4458\n",
      "Epoch 10/15\n",
      "100/100 [==============================] - 4s 37ms/step - loss: 12088054382592.0000 - accuracy: 0.4675 - val_loss: 12492020383744.0000 - val_accuracy: 0.4458\n",
      "Epoch 11/15\n",
      "100/100 [==============================] - 4s 36ms/step - loss: 16476178219008.0000 - accuracy: 0.4755 - val_loss: 17953697300480.0000 - val_accuracy: 0.4458\n",
      "Epoch 12/15\n",
      "100/100 [==============================] - 4s 36ms/step - loss: 22849899200512.0000 - accuracy: 0.4820 - val_loss: 32033485094912.0000 - val_accuracy: 0.4458\n",
      "Epoch 13/15\n",
      "100/100 [==============================] - 4s 36ms/step - loss: 34810726711296.0000 - accuracy: 0.4790 - val_loss: 37033204514816.0000 - val_accuracy: 0.4458\n",
      "Epoch 14/15\n",
      "100/100 [==============================] - 4s 37ms/step - loss: 48769630470144.0000 - accuracy: 0.4670 - val_loss: 48380935929856.0000 - val_accuracy: 0.4458\n",
      "Epoch 15/15\n",
      " 40/100 [===========>..................] - ETA: 2s - loss: 44703647006720.0000 - accuracy: 0.4888WARNING:tensorflow:Your input ran out of data; interrupting training. Make sure that your dataset or generator can generate at least `steps_per_epoch * epochs` batches (in this case, 1500 batches). You may need to use the repeat() function when building your dataset.\n",
      "100/100 [==============================] - 2s 16ms/step - loss: 44703647006720.0000 - accuracy: 0.4888 - val_loss: 47615467061248.0000 - val_accuracy: 0.4458\n",
      "INFO:tensorflow:Assets written to: ram://7e943503-7be2-4003-8bca-77c27f5430f4/assets\n",
      "default artifacts URI: 's3://mlflow-artifact-remote-tex/2/f792a8918dc84d608aa4f114326351d5/artifacts'\n"
     ]
    }
   ],
   "source": [
    "mlflow.set_experiment(\"my-experiment-2\")\n",
    "\n",
    "with mlflow.start_run():\n",
    "\n",
    "    params = {\"epoch\": 15, \"step_per_epoch\": 100}\n",
    "    mlflow.log_params(params)\n",
    "\n",
    "    model,history=network(X_train,y_train,X_test,y_test)\n",
    "    y_pred = np.array(model.predict(X_test))\n",
    "    y_test_ = np.array(y_test)\n",
    "    mlflow.log_metric(\"accuracy\", accuracy_score(y_test_.argmax(axis=1), y_pred.argmax(axis=1)))\n",
    "\n",
    "    mlflow.sklearn.log_model(model, artifact_path=\"models\")\n",
    "    print(f\"default artifacts URI: '{mlflow.get_artifact_uri()}'\")"
   ]
  },
  {
   "cell_type": "code",
   "execution_count": 49,
   "metadata": {},
   "outputs": [
    {
     "name": "stderr",
     "output_type": "stream",
     "text": [
      "2022/08/31 03:31:51 INFO mlflow.tracking.fluent: Experiment with name 'my-experiment-3' does not exist. Creating a new experiment.\n"
     ]
    },
    {
     "name": "stdout",
     "output_type": "stream",
     "text": [
      "Epoch 1/3\n",
      "50/50 [==============================] - 4s 69ms/step - loss: 88.4520 - accuracy: 0.5250 - val_loss: 475.2136 - val_accuracy: 0.5583\n",
      "Epoch 2/3\n",
      "50/50 [==============================] - 3s 64ms/step - loss: 12200.2549 - accuracy: 0.5130 - val_loss: 9003.0264 - val_accuracy: 0.5646\n",
      "Epoch 3/3\n",
      "50/50 [==============================] - 3s 67ms/step - loss: 124286.9453 - accuracy: 0.5026 - val_loss: 137602.4219 - val_accuracy: 0.4917\n",
      "INFO:tensorflow:Assets written to: ram://50df7dcc-c640-40e7-9df7-2f2f157daa04/assets\n",
      "default artifacts URI: 's3://mlflow-artifact-remote-tex/3/ea5b9f9593d045a7af15433fd8439138/artifacts'\n"
     ]
    }
   ],
   "source": [
    "mlflow.set_experiment(\"my-experiment-3\")\n",
    "\n",
    "with mlflow.start_run():\n",
    "\n",
    "    params = {\"epoch\": 3, \"step_per_epoch\": 50}\n",
    "    mlflow.log_params(params)\n",
    "\n",
    "    model,history=network(X_train,y_train,X_test,y_test)\n",
    "    y_pred = np.array(model.predict(X_test))\n",
    "    y_test_ = np.array(y_test)\n",
    "    mlflow.log_metric(\"accuracy\", accuracy_score(y_test_.argmax(axis=1), y_pred.argmax(axis=1)))\n",
    "\n",
    "    mlflow.sklearn.log_model(model, artifact_path=\"models\")\n",
    "    print(f\"default artifacts URI: '{mlflow.get_artifact_uri()}'\")"
   ]
  },
  {
   "cell_type": "code",
   "execution_count": 26,
   "metadata": {},
   "outputs": [
    {
     "name": "stdout",
     "output_type": "stream",
     "text": [
      "Epoch 1/5\n",
      "100/100 [==============================] - 27s 261ms/step - loss: 107222.0547 - accuracy: 0.4785 - val_loss: 105916.0000 - val_accuracy: 0.4625\n",
      "Epoch 2/5\n",
      "100/100 [==============================] - 26s 258ms/step - loss: 19212582.0000 - accuracy: 0.4880 - val_loss: 23283524.0000 - val_accuracy: 0.4458\n",
      "Epoch 3/5\n",
      "100/100 [==============================] - 27s 270ms/step - loss: 1072463296.0000 - accuracy: 0.5175 - val_loss: 8292178432.0000 - val_accuracy: 0.5542\n",
      "Epoch 4/5\n",
      "100/100 [==============================] - 27s 269ms/step - loss: 6776263680.0000 - accuracy: 0.4955 - val_loss: 6621822464.0000 - val_accuracy: 0.5542\n",
      "Epoch 5/5\n",
      " 80/100 [=======================>......] - ETA: 5s - loss: 24077146112.0000 - accuracy: 0.4975WARNING:tensorflow:Your input ran out of data; interrupting training. Make sure that your dataset or generator can generate at least `steps_per_epoch * epochs` batches (in this case, 500 batches). You may need to use the repeat() function when building your dataset.\n",
      "100/100 [==============================] - 22s 219ms/step - loss: 24077146112.0000 - accuracy: 0.4975 - val_loss: 60948340736.0000 - val_accuracy: 0.5542\n"
     ]
    },
    {
     "name": "stderr",
     "output_type": "stream",
     "text": [
      "2022-08-31 04:02:00.107208: W tensorflow/python/util/util.cc:368] Sets are not currently considered sequences, but this may change in the future, so consider avoiding using them.\n"
     ]
    },
    {
     "name": "stdout",
     "output_type": "stream",
     "text": [
      "INFO:tensorflow:Assets written to: ram://936dece6-b7de-4c75-892b-fd356136db50/assets\n"
     ]
    },
    {
     "name": "stderr",
     "output_type": "stream",
     "text": [
      "/home/miki/anaconda3/lib/python3.9/site-packages/_distutils_hack/__init__.py:33: UserWarning: Setuptools is replacing distutils.\n",
      "  warnings.warn(\"Setuptools is replacing distutils.\")\n"
     ]
    },
    {
     "name": "stdout",
     "output_type": "stream",
     "text": [
      "default artifacts URI: 's3://mlflow-artifact-remote-tex/4/a8f7063ba1d84a5d85170001f4d3959c/artifacts'\n"
     ]
    }
   ],
   "source": [
    "from sklearn.metrics import accuracy_score\n",
    "mlflow.set_experiment(\"my-experiment-4\")\n",
    "\n",
    "with mlflow.start_run():\n",
    "\n",
    "    params = {\"epoch\": 5, \"step_per_epoch\": 100, \"signal_long\": 2500}\n",
    "    mlflow.log_params(params)\n",
    "\n",
    "    model,history=network(X_train,y_train,X_test,y_test)\n",
    "    y_pred = np.array(model.predict(X_test))\n",
    "    y_test_ = np.array(y_test)\n",
    "    mlflow.log_metric(\"accuracy\", accuracy_score(y_test_.argmax(axis=1), y_pred.argmax(axis=1)))\n",
    "\n",
    "    mlflow.sklearn.log_model(model, artifact_path=\"models\")\n",
    "    print(f\"default artifacts URI: '{mlflow.get_artifact_uri()}'\")"
   ]
  },
  {
   "cell_type": "code",
   "execution_count": 27,
   "metadata": {},
   "outputs": [
    {
     "data": {
      "text/plain": [
       "[<Experiment: artifact_location='s3://mlflow-artifact-remote-tex/0', experiment_id='0', lifecycle_stage='active', name='Default', tags={}>,\n",
       " <Experiment: artifact_location='s3://mlflow-artifact-remote-tex/1', experiment_id='1', lifecycle_stage='active', name='my-experiment-1', tags={}>,\n",
       " <Experiment: artifact_location='s3://mlflow-artifact-remote-tex/2', experiment_id='2', lifecycle_stage='active', name='my-experiment-2', tags={}>,\n",
       " <Experiment: artifact_location='s3://mlflow-artifact-remote-tex/3', experiment_id='3', lifecycle_stage='active', name='my-experiment-3', tags={}>,\n",
       " <Experiment: artifact_location='s3://mlflow-artifact-remote-tex/4', experiment_id='4', lifecycle_stage='active', name='my-experiment-4', tags={}>,\n",
       " <Experiment: artifact_location='s3://mlflow-artifact-remote-tex/5', experiment_id='5', lifecycle_stage='active', name='my_experiment_5', tags={}>]"
      ]
     },
     "execution_count": 27,
     "metadata": {},
     "output_type": "execute_result"
    }
   ],
   "source": [
    "mlflow.list_experiments()"
   ]
  },
  {
   "cell_type": "code",
   "execution_count": 28,
   "metadata": {},
   "outputs": [],
   "source": [
    "from mlflow.tracking import MlflowClient\n",
    "\n",
    "\n",
    "client = MlflowClient(f\"http://{TRACKING_SERVER_HOST}:5000\")"
   ]
  },
  {
   "cell_type": "code",
   "execution_count": 29,
   "metadata": {},
   "outputs": [
    {
     "data": {
      "text/plain": [
       "[<RegisteredModel: creation_timestamp=1661915670142, description='', last_updated_timestamp=1661915671779, latest_versions=[<ModelVersion: creation_timestamp=1661915671779, current_stage='None', description='', last_updated_timestamp=1661915671779, name='iris-classifier', run_id='f792a8918dc84d608aa4f114326351d5', run_link='', source='s3://mlflow-artifact-remote-tex/2/f792a8918dc84d608aa4f114326351d5/artifacts/models', status='READY', status_message='', tags={}, user_id='', version='1'>], name='iris-classifier', tags={}>,\n",
       " <RegisteredModel: creation_timestamp=1661915703526, description='', last_updated_timestamp=1661915704950, latest_versions=[<ModelVersion: creation_timestamp=1661915704950, current_stage='None', description='', last_updated_timestamp=1661915704950, name='signal_2500', run_id='a8f7063ba1d84a5d85170001f4d3959c', run_link='', source='s3://mlflow-artifact-remote-tex/4/a8f7063ba1d84a5d85170001f4d3959c/artifacts/models', status='READY', status_message='', tags={}, user_id='', version='1'>], name='signal_2500', tags={}>]"
      ]
     },
     "execution_count": 29,
     "metadata": {},
     "output_type": "execute_result"
    }
   ],
   "source": [
    "client.list_registered_models()"
   ]
  },
  {
   "cell_type": "code",
   "execution_count": 30,
   "metadata": {},
   "outputs": [
    {
     "name": "stderr",
     "output_type": "stream",
     "text": [
      "Successfully registered model 'signal_35000'.\n",
      "2022/09/02 18:15:53 INFO mlflow.tracking._model_registry.client: Waiting up to 300 seconds for model version to finish creation.                     Model name: signal_35000, version 1\n",
      "Created version '1' of model 'signal_35000'.\n"
     ]
    },
    {
     "data": {
      "text/plain": [
       "<ModelVersion: creation_timestamp=1662138953339, current_stage='None', description='', last_updated_timestamp=1662138953339, name='signal_35000', run_id='7c2bc868e56a43c4b68aacd58edb6569', run_link='', source='s3://mlflow-artifact-remote-tex/1/7c2bc868e56a43c4b68aacd58edb6569/artifacts/models', status='READY', status_message='', tags={}, user_id='', version='1'>"
      ]
     },
     "execution_count": 30,
     "metadata": {},
     "output_type": "execute_result"
    }
   ],
   "source": [
    "run_id = client.list_run_infos(experiment_id='1')[0].run_id\n",
    "mlflow.register_model(\n",
    "    model_uri=f\"runs:/{run_id}/models\",\n",
    "    name='signal_35000'\n",
    ")"
   ]
  },
  {
   "cell_type": "code",
   "execution_count": 31,
   "metadata": {},
   "outputs": [
    {
     "data": {
      "text/plain": [
       "[<RegisteredModel: creation_timestamp=1661915670142, description='', last_updated_timestamp=1661915671779, latest_versions=[<ModelVersion: creation_timestamp=1661915671779, current_stage='None', description='', last_updated_timestamp=1661915671779, name='iris-classifier', run_id='f792a8918dc84d608aa4f114326351d5', run_link='', source='s3://mlflow-artifact-remote-tex/2/f792a8918dc84d608aa4f114326351d5/artifacts/models', status='READY', status_message='', tags={}, user_id='', version='1'>], name='iris-classifier', tags={}>,\n",
       " <RegisteredModel: creation_timestamp=1661915703526, description='', last_updated_timestamp=1661915704950, latest_versions=[<ModelVersion: creation_timestamp=1661915704950, current_stage='None', description='', last_updated_timestamp=1661915704950, name='signal_2500', run_id='a8f7063ba1d84a5d85170001f4d3959c', run_link='', source='s3://mlflow-artifact-remote-tex/4/a8f7063ba1d84a5d85170001f4d3959c/artifacts/models', status='READY', status_message='', tags={}, user_id='', version='1'>], name='signal_2500', tags={}>,\n",
       " <RegisteredModel: creation_timestamp=1662138951618, description='', last_updated_timestamp=1662138953339, latest_versions=[<ModelVersion: creation_timestamp=1662138953339, current_stage='None', description='', last_updated_timestamp=1662138953339, name='signal_35000', run_id='7c2bc868e56a43c4b68aacd58edb6569', run_link='', source='s3://mlflow-artifact-remote-tex/1/7c2bc868e56a43c4b68aacd58edb6569/artifacts/models', status='READY', status_message='', tags={}, user_id='', version='1'>], name='signal_35000', tags={}>]"
      ]
     },
     "execution_count": 31,
     "metadata": {},
     "output_type": "execute_result"
    }
   ],
   "source": [
    "client.list_registered_models()"
   ]
  },
  {
   "cell_type": "code",
   "execution_count": 39,
   "metadata": {},
   "outputs": [
    {
     "name": "stdout",
     "output_type": "stream",
     "text": [
      "Confusion matrix, without normalization\n"
     ]
    },
    {
     "data": {
      "image/png": "[encoded data removed]",
      "text/plain": [
       "<Figure size 720x720 with 2 Axes>"
      ]
     },
     "metadata": {
      "needs_background": "light"
     },
     "output_type": "display_data"
    }
   ],
   "source": [
    "# Plot non-normalized confusion matrix\n",
    "\n",
    "\n",
    "cnf_matrix = skm.confusion_matrix(y_test_.argmax(axis=1), y_pred_.argmax(axis=1))\n",
    "np.set_printoptions(precision=2)\n",
    "plt.figure(figsize=(10, 10))\n",
    "plot_confusion_matrix(cnf_matrix, classes=['Rhythms', 'Electric axis of the heart', 'Hypertrophies', 'Ischemia'],normalize=False,\n",
    "                        title='Confusion matrix, with normalization')\n",
    "plt.savefig(\"end_md4\", dpi=300)\n",
    "plt.show()"
   ]
  }
 ],
 "metadata": {
  "kernelspec": {
   "display_name": "Python 3.9.12 ('pro_env': venv)",
   "language": "python",
   "name": "python3"
  },
  "language_info": {
   "codemirror_mode": {
    "name": "ipython",
    "version": 3
   },
   "file_extension": ".py",
   "mimetype": "text/x-python",
   "name": "python",
   "nbconvert_exporter": "python",
   "pygments_lexer": "ipython3",
   "version": "3.9.12"
  },
  "orig_nbformat": 4,
  "vscode": {
   "interpreter": {
    "hash": "c50efff1298c7d0b3b8233b4fb245a76e981925f7d020a39c9d8139c3f024ffe"
   }
  }
 },
 "nbformat": 4,
 "nbformat_minor": 2
}
