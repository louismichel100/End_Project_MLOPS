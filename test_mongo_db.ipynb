{
 "cells": [
  {
   "cell_type": "code",
   "execution_count": 2,
   "id": "61164730",
   "metadata": {},
   "outputs": [],
   "source": [
    "import pymongo"
   ]
  },
  {
   "cell_type": "code",
   "execution_count": 4,
   "id": "6dc7183b",
   "metadata": {},
   "outputs": [],
   "source": [
    "client = pymongo.MongoClient('mongodb://localhost:27018')\n",
    "db = client.get_database(\"prediction_service\")"
   ]
  },
  {
   "cell_type": "code",
   "execution_count": 5,
   "id": "1ba7731b",
   "metadata": {},
   "outputs": [],
   "source": [
    "data_collection = db.get_collection(\"data\")"
   ]
  },
  {
   "cell_type": "code",
   "execution_count": 7,
   "id": "8c33e6aa",
   "metadata": {},
   "outputs": [],
   "source": [
    "data = list(data_collection.find())"
   ]
  },
  {
   "cell_type": "code",
   "execution_count": 8,
   "id": "70bc8137",
   "metadata": {},
   "outputs": [
    {
     "data": {
      "text/plain": [
       "[{'_id': ObjectId('631f0371994880cddfa7eb0e'),\n",
       "  'debut_signal': 0,\n",
       "  'numero_personne': 3,\n",
       "  'prediction': 'Supraventricular premature beat'},\n",
       " {'_id': ObjectId('631f03dc994880cddfa7eb0f'),\n",
       "  'debut_signal': 2,\n",
       "  'numero_personne': 4,\n",
       "  'prediction': 'nothing'},\n",
       " {'_id': ObjectId('631f042bfd683e29a97cffb1'),\n",
       "  'debut_signal': 1,\n",
       "  'numero_personne': 4,\n",
       "  'prediction': 'nothing'}]"
      ]
     },
     "execution_count": 8,
     "metadata": {},
     "output_type": "execute_result"
    }
   ],
   "source": [
    "data"
   ]
  },
  {
   "cell_type": "code",
   "execution_count": 9,
   "id": "40d33672",
   "metadata": {},
   "outputs": [
    {
     "data": {
      "text/plain": [
       "3"
      ]
     },
     "execution_count": 9,
     "metadata": {},
     "output_type": "execute_result"
    }
   ],
   "source": [
    "len(data)"
   ]
  },
  {
   "cell_type": "code",
   "execution_count": 10,
   "id": "ac59b279",
   "metadata": {},
   "outputs": [],
   "source": [
    "data = list(data_collection.find())"
   ]
  },
  {
   "cell_type": "code",
   "execution_count": 11,
   "id": "71c81a91",
   "metadata": {},
   "outputs": [
    {
     "data": {
      "text/plain": [
       "[{'_id': ObjectId('631f0371994880cddfa7eb0e'),\n",
       "  'debut_signal': 0,\n",
       "  'numero_personne': 3,\n",
       "  'prediction': 'Supraventricular premature beat'},\n",
       " {'_id': ObjectId('631f03dc994880cddfa7eb0f'),\n",
       "  'debut_signal': 2,\n",
       "  'numero_personne': 4,\n",
       "  'prediction': 'nothing'},\n",
       " {'_id': ObjectId('631f042bfd683e29a97cffb1'),\n",
       "  'debut_signal': 1,\n",
       "  'numero_personne': 4,\n",
       "  'prediction': 'nothing'},\n",
       " {'_id': ObjectId('631f0b7efd683e29a97cffb2'),\n",
       "  'debut_signal': 0,\n",
       "  'numero_personne': 4,\n",
       "  'prediction': 'nothing'}]"
      ]
     },
     "execution_count": 11,
     "metadata": {},
     "output_type": "execute_result"
    }
   ],
   "source": [
    "data"
   ]
  },
  {
   "cell_type": "code",
   "execution_count": 12,
   "id": "a99a2764",
   "metadata": {},
   "outputs": [
    {
     "data": {
      "text/plain": [
       "4"
      ]
     },
     "execution_count": 12,
     "metadata": {},
     "output_type": "execute_result"
    }
   ],
   "source": [
    "len(data)"
   ]
  },
  {
   "cell_type": "code",
   "execution_count": null,
   "id": "12ec2495",
   "metadata": {},
   "outputs": [],
   "source": []
  }
 ],
 "metadata": {
  "kernelspec": {
   "display_name": "Python 3 (ipykernel)",
   "language": "python",
   "name": "python3"
  },
  "language_info": {
   "codemirror_mode": {
    "name": "ipython",
    "version": 3
   },
   "file_extension": ".py",
   "mimetype": "text/x-python",
   "name": "python",
   "nbconvert_exporter": "python",
   "pygments_lexer": "ipython3",
   "version": "3.9.12"
  }
 },
 "nbformat": 4,
 "nbformat_minor": 5
}
